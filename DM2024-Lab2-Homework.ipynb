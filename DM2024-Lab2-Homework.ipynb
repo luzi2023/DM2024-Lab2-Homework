{
 "cells": [
  {
   "cell_type": "markdown",
   "metadata": {},
   "source": [
    "### Student Information\n",
    "Name: 盧子涵\n",
    "\n",
    "Student ID: 113065542\n",
    "\n",
    "GitHub ID: luzi2023\n",
    "\n",
    "Kaggle name: luzi8451\n",
    "\n",
    "Kaggle private scoreboard snapshot: ![pic0.png](attachment:\"img/pic0.png\")"
   ]
  },
  {
   "cell_type": "code",
   "execution_count": 1,
   "metadata": {},
   "outputs": [
    {
     "data": {
      "image/png": "[encoded data removed]",
      "text/plain": [
       "<IPython.core.display.Image object>"
      ]
     },
     "execution_count": 1,
     "metadata": {
      "image/png": {
       "height": 600,
       "width": 850
      }
     },
     "output_type": "execute_result"
    }
   ],
   "source": [
    "from IPython.display import Image\n",
    "from IPython.core.display import HTML\n",
    "PATH = \"img/pic0.png\"\n",
    "Image(filename = PATH , width=850, height=600)"
   ]
  },
  {
   "cell_type": "markdown",
   "metadata": {},
   "source": [
    "---"
   ]
  },
  {
   "cell_type": "markdown",
   "metadata": {},
   "source": [
    "### Instructions"
   ]
  },
  {
   "cell_type": "markdown",
   "metadata": {},
   "source": [
    "1. First: __This part is worth 30% of your grade.__ Do the **take home exercises** in the [DM2024-Lab2-master Repo](https://github.com/didiersalazar/DM2024-Lab2-Master). You may need to copy some cells from the Lab notebook to this notebook. \n",
    "\n",
    "\n",
    "2. Second: __This part is worth 30% of your grade.__ Participate in the in-class [Kaggle Competition](https://www.kaggle.com/competitions/dm-2024-isa-5810-lab-2-homework) regarding Emotion Recognition on Twitter by this link: https://www.kaggle.com/competitions/dm-2024-isa-5810-lab-2-homework. The scoring will be given according to your place in the Private Leaderboard ranking: \n",
    "    - **Bottom 40%**: Get 20% of the 30% available for this section.\n",
    "\n",
    "    - **Top 41% - 100%**: Get (0.6N + 1 - x) / (0.6N) * 10 + 20 points, where N is the total number of participants, and x is your rank. (ie. If there are 100 participants and you rank 3rd your score will be (0.6 * 100 + 1 - 3) / (0.6 * 100) * 10 + 20 = 29.67% out of 30%.)   \n",
    "    Submit your last submission **BEFORE the deadline (Nov. 26th, 11:59 pm, Tuesday)**. Make sure to take a screenshot of your position at the end of the competition and store it as '''pic0.png''' under the **img** folder of this repository and rerun the cell **Student Information**.\n",
    "    \n",
    "\n",
    "3. Third: __This part is worth 30% of your grade.__ A report of your work developing the model for the competition (You can use code and comment on it). This report should include what your preprocessing steps, the feature engineering steps and an explanation of your model. You can also mention different things you tried and insights you gained. \n",
    "\n",
    "\n",
    "4. Fourth: __This part is worth 10% of your grade.__ It's hard for us to follow if your code is messy :'(, so please **tidy up your notebook**.\n",
    "\n",
    "\n",
    "Upload your files to your repository then submit the link to it on the corresponding e-learn assignment.\n",
    "\n",
    "Make sure to commit and save your changes to your repository __BEFORE the deadline (Nov. 26th, 11:59 pm, Tuesday)__. "
   ]
  },
  {
   "cell_type": "markdown",
   "metadata": {},
   "source": [
    "### =======================First Part================================="
   ]
  },
  {
   "cell_type": "markdown",
   "metadata": {},
   "source": [
    "### Exercise 1"
   ]
  },
  {
   "cell_type": "code",
   "execution_count": null,
   "metadata": {},
   "outputs": [],
   "source": [
    "import nltk\n",
    "from nltk.tokenize import word_tokenize\n",
    "from collections import Counter\n",
    "import matplotlib.pyplot as plt\n",
    "import seaborn as sns\n",
    "\n",
    "# train_df\n",
    "train_all_words = []\n",
    "for text in train_df['text']:\n",
    "    train_all_words.extend(word_tokenize(text.lower()))\n",
    "    \n",
    "train_word_freq = Counter(train_all_words)\n",
    "    \n",
    "train_most_common = train_word_freq.most_common(30)\n",
    "words, counts = zip(*train_most_common)\n",
    "\n",
    "fig, axes = plt.subplots(1, 2, figsize=(14, 6))\n",
    "sns.barplot(x=list(counts), y=list(words), ax=axes[0])\n",
    "axes[0].set_xlabel(\"Frequency\")\n",
    "axes[0].set_ylabel(\"Words\")\n",
    "axes[0].set_title(\"Top 30 Word Frequencies in Train Dataset\")\n",
    "\n",
    "# test_df\n",
    "test_all_words = []\n",
    "for text in test_df['text']:\n",
    "    test_all_words.extend(word_tokenize(text.lower()))\n",
    "\n",
    "test_word_freq = Counter(test_all_words)\n",
    "\n",
    "test_most_common = test_word_freq.most_common(30)\n",
    "words, counts = zip(*test_most_common)\n",
    "\n",
    "sns.barplot(x=list(counts), y=list(words), ax=axes[1])\n",
    "axes[1].set_xlabel(\"Frequency\")\n",
    "axes[1].set_ylabel(\"Words\")\n",
    "axes[1].set_title(\"Top 30 Word Frequencies in Test Dataset\")\n",
    "\n",
    "plt.tight_layout()\n",
    "plt.show()\n"
   ]
  },
  {
   "cell_type": "markdown",
   "metadata": {},
   "source": [
    "### Exercise 2"
   ]
  },
  {
   "cell_type": "code",
   "execution_count": null,
   "metadata": {},
   "outputs": [],
   "source": [
    "# Answer here\n",
    "from sklearn.feature_extraction.text import TfidfVectorizer\n",
    "\n",
    "tfidfvectorizer = TfidfVectorizer()\n",
    "X = tfidfvectorizer.fit_transform(train_df['text'])\n",
    "tfidf_features_name = tfidfvectorizer.get_feature_names_out()\n",
    "tfidf_features_name[100:110]"
   ]
  },
  {
   "cell_type": "markdown",
   "metadata": {},
   "source": [
    "### Exercise 3"
   ]
  },
  {
   "cell_type": "markdown",
   "metadata": {},
   "source": [
    "#### Answer here\n",
    "The numbers on the diagnal are right-predicted, and the others are wrong. The most wrong cases are 'fear' wrong-predicted as 'anger' then 'anger'\n",
    "wrong-predicted as 'fear'. We can hypothesis that it might be hard and stuggle for model to distinguish between 'fear' and 'anger'. For having more \n",
    "digged in details we can do error analysis to see what exact case will be predicted wrong."
   ]
  },
  {
   "cell_type": "markdown",
   "metadata": {},
   "source": [
    "### Exercise 4"
   ]
  },
  {
   "cell_type": "code",
   "execution_count": null,
   "metadata": {},
   "outputs": [],
   "source": [
    "# Answer here\n",
    "from sklearn.naive_bayes import MultinomialNB\n",
    "\n",
    "# model\n",
    "clf = MultinomialNB()\n",
    "clf.fit(X_train, y_train)\n",
    "\n",
    "# predict\n",
    "y_test_pred = clf.predict(X_test)\n",
    "\n",
    "# evaluate\n",
    "accuracy = accuracy_score(y_test_pred, y_test)\n",
    "print(f\"testing accuracy: {accuracy:.4f} \")\n",
    "\n",
    "# plot confusion matrix\n",
    "cm = confusion_matrix(y_true=y_test, y_pred=y_test_pred)\n",
    "plot_confusion_matrix(cm, classes=my_tags)"
   ]
  },
  {
   "cell_type": "markdown",
   "metadata": {},
   "source": [
    "### Exercise 5"
   ]
  },
  {
   "cell_type": "markdown",
   "metadata": {},
   "source": [
    "##### Answer here\n",
    "Naive Bayes在測試集上的表現較Decision Tree佳，可能原因有\n",
    "1. 各特徵間為獨立存在的，使得Naive Bayes在此狀況下更加適用(基於條件機率計算的方式)\n",
    "2. Decision Tree出現過度記憶訓練集的特徵導致overfitting，在測試集上表現並不如預期"
   ]
  },
  {
   "cell_type": "markdown",
   "metadata": {},
   "source": [
    "### Exercise 6"
   ]
  },
  {
   "cell_type": "code",
   "execution_count": null,
   "metadata": {},
   "outputs": [],
   "source": [
    "# Answer here\n",
    "plt.figure(figsize=(4, 3))\n",
    "plt.plot(training_log['epoch'], training_log['accuracy'], color='blue')\n",
    "plt.plot(training_log['epoch'], training_log['val_accuracy'], color='red')\n",
    "plt.xlabel(\"Epochs\")\n",
    "plt.ylabel(\"Accuracy\")\n",
    "plt.legend(['Train accuracy', 'Val accuracy'], loc='upper right')\n",
    "plt.title(\"Accuracy per epoch\");\n",
    "\n",
    "plt.figure(figsize=(4, 3))\n",
    "plt.plot(training_log['epoch'], training_log['loss'], color='blue')\n",
    "plt.plot(training_log['epoch'], training_log['val_loss'], color='red')\n",
    "plt.xlabel(\"Epochs\")\n",
    "plt.ylabel(\"Loss\")\n",
    "plt.legend(['Train loss', 'Val loss'], loc='upper right')\n",
    "plt.title(\"Loss per epoch\");"
   ]
  },
  {
   "cell_type": "markdown",
   "metadata": {},
   "source": [
    "According to the \"Training Loss per Epoch\" plot, the validation loss reaches its minimum at epoch 3. Beyond this point, as the number of epochs increases, the validation loss starts to rise while the training loss continues to decrease. This indicates that the model is overfitting after epoch 3, as it is learning the training set's patterns too well, leading to reduced generalization on the validation set."
   ]
  },
  {
   "cell_type": "markdown",
   "metadata": {},
   "source": [
    "### Exercise 7"
   ]
  },
  {
   "cell_type": "markdown",
   "metadata": {},
   "source": [
    "#### Answer here\n",
    "可能可以使用\n",
    "1. 將句子中出現的vector加總或是取平均，其優點是簡單容易計算，缺點是加總或是平均的動作會導致vector之間存在的關聯被消除掉\n",
    "2. 也可利用加權的方式替較重要的vector提高重要性(類似於TF-IDF)，優點是重要的vector會佔較大的比例，缺點則是需要額外計算加權值"
   ]
  },
  {
   "cell_type": "markdown",
   "metadata": {},
   "source": [
    "### Exercise 8"
   ]
  },
  {
   "cell_type": "code",
   "execution_count": null,
   "metadata": {},
   "outputs": [],
   "source": [
    "# Answer here\n",
    "similar_angry = [word[0] for word in w2v_google_model.most_similar('angry', topn=15)]\n",
    "similar_happy = [word[0] for word in  w2v_google_model.most_similar('happy', topn=15)]\n",
    "similar_sad = [word[0] for word in w2v_google_model.most_similar('sad', topn=15)]\n",
    "similar_fear = [word[0] for word in w2v_google_model.most_similar('fear', topn=15)]\n",
    "all_words = similar_angry + similar_happy +similar_sad + similar_fear\n",
    "\n",
    "model = w2v_google_model\n",
    "all_words_train = model[all_words]\n",
    "\n",
    "fig, axes = plt.subplots(1, 2, figsize=(14, 6), dpi=115)\n",
    "\n",
    "# tsne\n",
    "tsne = TSNE(n_components=2, metric='cosine', random_state=33)\n",
    "all_words_tsne = tsne.fit_transform(all_words_train)\n",
    "\n",
    "color = ['b'] * 15 + ['r'] * 15 + ['y'] * 15 + ['g'] * 15\n",
    "\n",
    "axes[0].scatter(all_words_tsne[:, 0], all_words_tsne[:, 1], c=color)\n",
    "for label, x, y in zip(all_words, all_words_tsne[:, 0], all_words_tsne[:, 1]):\n",
    "    axes[0].annotate(label, xy=(x,y), xytext=(0,0),  textcoords='offset points')\n",
    "axes[0].set_title(\"TSNE Visualization\")\n",
    "\n",
    "# UMAP\n",
    "umap_model = umap.UMAP(n_components=2, metric='cosine', random_state=33)\n",
    "all_words_umap = umap_model.fit_transform(all_words_train)\n",
    "\n",
    "axes[1].scatter(all_words_umap[:, 0], all_words_umap[:, 1], c=color)\n",
    "for label, x, y in zip(all_words, all_words_umap[:, 0], all_words_umap[:, 1]):\n",
    "    axes[1].annotate(label, xy=(x,y), xytext=(0,0),  textcoords='offset points')\n",
    "axes[1].set_title(\"UMAP Visualization\")\n",
    "\n",
    "plt.tight_layout();\n",
    "\n",
    "# 從兩張圖上可以看到 UMAP各類的點較為密集，最明顯的差距在fear中可以看到"
   ]
  },
  {
   "cell_type": "markdown",
   "metadata": {},
   "source": [
    "### Exercise 9"
   ]
  },
  {
   "cell_type": "code",
   "execution_count": null,
   "metadata": {},
   "outputs": [],
   "source": [
    "# Answer here\n",
    "# role的目的是定義對話的結構，來知道現在應該是誰在說話，role分成'user', 'system', 'assistant'，加入role可強化對話邏輯\n",
    "response = ollama.chat(model='llama3.2', messages=[\n",
    "    {\n",
    "        \"role\": \"system\",\n",
    "        \"content\": \"You are a helpful assistant knowledgeable about programming.\"\n",
    "    },\n",
    "])\n",
    "\n",
    "response = ollama.chat(model='llama3.2', messages=[\n",
    "    {\n",
    "        \"role\": \"assistant\",\n",
    "        \"content\": \"Here's an example of a Python function:\\n```python\\ndef greet(name):\\n    return f'Hello, {name}!'\\n```\"\n",
    "    },\n",
    "])\n",
    "\n",
    "print(response['message']['content'])"
   ]
  },
  {
   "cell_type": "markdown",
   "metadata": {},
   "source": [
    "### Exercise 10"
   ]
  },
  {
   "cell_type": "code",
   "execution_count": null,
   "metadata": {},
   "outputs": [],
   "source": [
    "# Answer here\n",
    "# response3 = ollama.chat(model='llava-phi3', messages=[\n",
    "#     {\n",
    "#         'role': 'user',\n",
    "#         'content': 'What is this image about?',\n",
    "#         'images': ['./pics/pandas.jpg'] #Image with pandas\n",
    "#     },\n",
    "# ])\n",
    "\n",
    "# display(Markdown(response3['message']['content']))\n",
    "# # 他形容得非常準確，包括熊貓的數量、造景的設計及圖片中較次要的光影重點也表達的非常詳細\n",
    "\n",
    "response3 = ollama.chat(model='llava-phi3', messages=[\n",
    "    {\n",
    "        'role': 'user',\n",
    "        'content': 'What is this image about?',\n",
    "        'images': ['./pics/HappyNewYear.jpg'] #Image with crowds and fireworks\n",
    "    },\n",
    "])\n",
    "\n",
    "display(Markdown(response3['message']['content']))\n",
    "# 本來以為模型會對較為密集且資訊量大的圖片存在解讀困難，但從這張圖片的結果來看解讀的狀況並不差，他看到了煙火、人群、也知道人群是在慶祝跨年(非常好奇是怎麼知道的)、甚至節慶氛圍都形容得很準確"
   ]
  },
  {
   "cell_type": "markdown",
   "metadata": {},
   "source": [
    "### Exercise 11"
   ]
  },
  {
   "cell_type": "code",
   "execution_count": null,
   "metadata": {
    "scrolled": true
   },
   "outputs": [],
   "source": [
    "# Answer here\n",
    "import ollama\n",
    "import bs4\n",
    "from langchain.text_splitter import RecursiveCharacterTextSplitter\n",
    "from langchain_community.document_loaders import WebBaseLoader\n",
    "from langchain_community.vectorstores import Chroma\n",
    "from langchain_community.embeddings import OllamaEmbeddings\n",
    "from langchain_core.output_parsers import StrOutputParser\n",
    "from langchain_core.runnables import RunnablePassthrough\n",
    "\n",
    "llm_model = \"llama3.2\" #You can change to the one of your preference\n",
    "\n",
    "# Function to load, split, and retrieve documents\n",
    "def load_and_retrieve_docs(sources):\n",
    "    docs = []\n",
    "    for source in sources:\n",
    "        loader = WebBaseLoader(web_paths=(source,), bs_kwargs=dict()) \n",
    "        docs.extend(loader.load()) #We will load the URL that will serve as our data source\n",
    "    text_splitter = RecursiveCharacterTextSplitter(chunk_size=1000, chunk_overlap=200) #We will divide the URL in chunks of text for easier comparison in the vector space\n",
    "    splits = text_splitter.split_documents(docs)\n",
    "    # print(f\"splits: {splits} \") #You can print this to see how the chunks in the url where split\n",
    "    embeddings = OllamaEmbeddings(model=llm_model) #Generating embeddings with our chosen model\n",
    "    vectorstore = Chroma.from_documents(documents=splits, embedding=embeddings) #Our vector space for comparison\n",
    "    return vectorstore.as_retriever()\n",
    "\n",
    "url=[\"https://www.ibm.com/topics/large-language-models\", \"https://en.wikipedia.org/wiki/Large_language_model\", \"https://www.ibm.com/topics/natural-language-processing\"]\n",
    "# Create the retriever\n",
    "retriever = load_and_retrieve_docs(url)\n",
    "\n",
    "def format_docs(docs):\n",
    "    return \"\\n\\n\".join(doc.page_content for doc in docs) #Format the retrieved docs in an orderly manner for prompting\n",
    "\n",
    "# Define the Ollama LLM function\n",
    "def ollama_llm(question, context):\n",
    "    formatted_prompt = f\"Question: {question}\\n\\nContext: {context}\"\n",
    "    response = ollama.chat(model='llama3.2', messages=[{'role': 'user', 'content': formatted_prompt}])\n",
    "    return response['message']['content']\n",
    "\n",
    "# Define the RAG chain\n",
    "def rag_chain(question):\n",
    "    retrieved_docs = retriever.invoke(question)\n",
    "    formatted_context = format_docs(retrieved_docs)\n",
    "    return ollama_llm(question, formatted_context)\n",
    "\n",
    "# Use the RAG chain\n",
    "result = rag_chain(\"What are the related solutions of IBM with LLMs?\")\n",
    "display(Markdown(result))\n",
    "\n",
    "# 當新加入更多的文章參考反而造成回應的準確度降低，RAG的缺點可能包括當檢索到的文檔與問題的相關性過低時，會導致生成回應的準確度降低且過多低質或無關的文檔可能干擾模型，增加錯誤資訊的產生"
   ]
  },
  {
   "cell_type": "markdown",
   "metadata": {},
   "source": [
    "### Exercise 12"
   ]
  },
  {
   "cell_type": "code",
   "execution_count": null,
   "metadata": {
    "scrolled": true
   },
   "outputs": [],
   "source": [
    "# Answer here\n",
    "fig, axes = plt.subplots(1, 2, figsize=(8, 3))\n",
    "\n",
    "axes[0].plot(training_log['epoch'], training_log['accuracy'], color='blue')\n",
    "axes[0].plot(training_log['epoch'], training_log['val_accuracy'], color='red')\n",
    "axes[0].set_xlabel(\"Epochs\")\n",
    "axes[0].set_ylabel(\"Accuracy\")\n",
    "axes[0].legend(['Train accuracy', 'Val accuracy'], loc='upper right')\n",
    "axes[0].set_title(\"Accuracy per epoch\");\n",
    "\n",
    "axes[1].plot(training_log['epoch'], training_log['loss'], color='blue')\n",
    "axes[1].plot(training_log['epoch'], training_log['val_loss'], color='red')\n",
    "axes[1].set_xlabel(\"Epochs\")\n",
    "axes[1].set_ylabel(\"Loss\")\n",
    "axes[1].legend(['Train loss', 'Val loss'], loc='upper right')\n",
    "axes[1].set_title(\"Loss per epoch\");"
   ]
  },
  {
   "cell_type": "markdown",
   "metadata": {},
   "source": [
    "根據圖表我們可以看到NN在訓練集上的表現都非常好，但在測試集上的表現卻不如訓練集，這是很典型的overfitting的狀況，可能原因是資料集大小太小，導致模型已經過分記憶訓練集中的各個特徵"
   ]
  },
  {
   "cell_type": "markdown",
   "metadata": {},
   "source": [
    "### Exercise 13"
   ]
  },
  {
   "cell_type": "markdown",
   "metadata": {},
   "source": [
    "### Answer here\n",
    "若分為不提供例子(zero-shot))及有提供例子(1-shot and 5-shot)，則為提供例子的表現較提供的略高一點;\n",
    "推測可能為模型對任務已經十分熟悉，1-shot已足夠讓其了解，故額外的例子對其的效果便沒那麼好了"
   ]
  },
  {
   "cell_type": "markdown",
   "metadata": {},
   "source": [
    "### =======================Second Part================================="
   ]
  },
  {
   "cell_type": "code",
   "execution_count": 1,
   "metadata": {},
   "outputs": [],
   "source": [
    "import pandas as pd\n",
    "import numpy as np\n",
    "import json\n",
    "import emoji\n",
    "import re\n",
    "from sklearn import preprocessing\n",
    "from sklearn.model_selection import train_test_split\n",
    "import transformers\n",
    "from tqdm import tqdm\n",
    "from torch.utils.data import DataLoader, TensorDataset\n",
    "from sklearn.metrics import confusion_matrix"
   ]
  },
  {
   "cell_type": "code",
   "execution_count": 2,
   "metadata": {},
   "outputs": [],
   "source": [
    "raw_tweet = \"tweets_DM.json\"\n",
    "data = []\n",
    "with open(raw_tweet, \"r\") as f_in:\n",
    "    for line in f_in:\n",
    "        data.append(json.loads(line))\n",
    "\n",
    "data_identification = pd.read_csv(\"./data_identification.csv\")\n",
    "submission = pd.read_csv(\"./sampleSubmission.csv\")\n",
    "# submission.head(3)"
   ]
  },
  {
   "cell_type": "code",
   "execution_count": 3,
   "metadata": {},
   "outputs": [],
   "source": [
    "# 將emoji轉換成特定token\n",
    "# emoji_dict = {\n",
    "#     '😂': '[emoji]',\n",
    "#     '❤️': '[emoji]',\n",
    "#     '😍': '[emoji]',\n",
    "#     '😭': '[emoji]',\n",
    "#     '❤': '[emoji]',\n",
    "#     '😊': '[emoji]',\n",
    "#     '🙏': '[emoji]',\n",
    "#     '😘': '[emoji]',\n",
    "#     '💕': '[emoji]',\n",
    "#     '🔥': '[emoji]',\n",
    "#     '😩': '[emoji]',\n",
    "#     '🤔': '[emoji]',\n",
    "#     '💯': '[emoji]',\n",
    "#     '💙': '[emoji]',\n",
    "#     '🙄': '[emoji]',\n",
    "#     '😁': '[emoji]',\n",
    "#     '🙌': '[emoji]',\n",
    "#     '🙏🏾': '[emoji]',\n",
    "#     '👍': '[emoji]',\n",
    "#     '🙏🏽': '[emoji]'\n",
    "# }\n",
    "\n",
    "emoji_dict = {\n",
    "    '😂': '[joy]',\n",
    "    '❤️': '[love]',\n",
    "    '😍': '[adoration]',\n",
    "    '😭': '[cry]',\n",
    "    '❤': '[care]',\n",
    "    '😊': '[happy]',\n",
    "    '🙏': '[pray]',\n",
    "    '😘': '[kiss]',\n",
    "    '💕': '[love_each_other]',\n",
    "    '🔥': '[fire]',\n",
    "    '😩': '[weary]',\n",
    "    '🤔': '[think]',\n",
    "    '💯': '[perfect]',\n",
    "    '💙': '[loyalty]',\n",
    "    '🙄': '[annoyed]',\n",
    "    '😁': '[happy]',\n",
    "    '🙌': '[celebrate]',\n",
    "    '🙏🏾': '[pray]',\n",
    "    '👍': '[approve]',\n",
    "    '🙏🏽': '[pray]'\n",
    "}\n",
    "\n",
    "def clean_tweet(text, emoji_dict):\n",
    "    # 將定義的表情符號替換為對應的關鍵詞\n",
    "    for emj, keyword in emoji_dict.items():\n",
    "        text = text.replace(emj, keyword)\n",
    "    text = emoji.replace_emoji(text, replace='')\n",
    "    text = re.sub(r'<LH>', '', text)\n",
    "    text = text.strip()\n",
    "    return text"
   ]
  },
  {
   "cell_type": "code",
   "execution_count": null,
   "metadata": {},
   "outputs": [],
   "source": [
    "# processed_tweets = []\n",
    "# for entry in data:\n",
    "#     if '_source' in entry and 'tweet' in entry['_source']:\n",
    "#         tweet = entry['_source']['tweet']\n",
    "#         if 'text' in tweet:\n",
    "#             tweet_text = tweet['text']\n",
    "#             cleaned_text = clean_tweet(tweet_text, emoji_dict)\n",
    "#             processed_tweet = {\n",
    "#                 '_source': {\n",
    "#                     'tweet': tweet.copy()\n",
    "#                 }\n",
    "#             }\n",
    "#             processed_tweet['_source']['tweet']['text'] = cleaned_text\n",
    "#             processed_tweets.append(processed_tweet)\n",
    "#         else:\n",
    "#             print(\"記錄中缺少 'text' 鍵\")\n",
    "#     else:\n",
    "#         print(\"記錄中缺少 '_source' 或 'tweet' 鍵\")\n",
    "\n",
    "# with open('tweets_DM_filtered_1.json', 'w', encoding='utf-8') as outfile:\n",
    "#     json.dump(processed_tweets, outfile, ensure_ascii=False, indent=4)"
   ]
  },
  {
   "cell_type": "code",
   "execution_count": 3,
   "metadata": {},
   "outputs": [],
   "source": [
    "processed_tweets = []\n",
    "with open('tweets_DM_filtered_emoji.json', 'r', encoding='utf-8') as f_in:\n",
    "  data = json.load(f_in)\n",
    "  processed_tweets.append(data)"
   ]
  },
  {
   "cell_type": "code",
   "execution_count": 4,
   "metadata": {},
   "outputs": [],
   "source": [
    "# 將處理後的資料轉換為 DataFrame\n",
    "df_processed = pd.DataFrame(processed_tweets)\n",
    "\n",
    "df = pd.DataFrame(data)\n",
    "_source = df['_source'].apply(lambda x: x['tweet'])\n",
    "df = pd.DataFrame({\n",
    "    'tweet_id': _source.apply(lambda x: x['tweet_id']),\n",
    "    'hashtags': _source.apply(lambda x: x['hashtags']),\n",
    "    'text': _source.apply(lambda x: x['text']),\n",
    "})"
   ]
  },
  {
   "cell_type": "code",
   "execution_count": 5,
   "metadata": {},
   "outputs": [],
   "source": [
    "df = df.merge(data_identification, on='tweet_id', how='left')"
   ]
  },
  {
   "cell_type": "code",
   "execution_count": 6,
   "metadata": {},
   "outputs": [
    {
     "data": {
      "text/plain": [
       "emotion\n",
       "joy             516017\n",
       "anticipation    248935\n",
       "trust           205478\n",
       "sadness         193437\n",
       "disgust         139101\n",
       "fear             63999\n",
       "surprise         48729\n",
       "anger            39867\n",
       "Name: count, dtype: int64"
      ]
     },
     "execution_count": 6,
     "metadata": {},
     "output_type": "execute_result"
    }
   ],
   "source": [
    "emotions = pd.read_csv(\"emotion.csv\")\n",
    "emotions['emotion'].value_counts()"
   ]
  },
  {
   "cell_type": "code",
   "execution_count": 7,
   "metadata": {},
   "outputs": [
    {
     "name": "stderr",
     "output_type": "stream",
     "text": [
      "/tmp/ipykernel_1816555/2092790352.py:7: SettingWithCopyWarning: \n",
      "A value is trying to be set on a copy of a slice from a DataFrame\n",
      "\n",
      "See the caveats in the documentation: https://pandas.pydata.org/pandas-docs/stable/user_guide/indexing.html#returning-a-view-versus-a-copy\n",
      "  test_data.rename(columns={'tweet_id': 'id', 'hashtags': 'hashtags', 'text':'text', 'identification': 'identification'}, inplace=True)\n"
     ]
    }
   ],
   "source": [
    "# 利用data_identification.csv中的資料拆分出training set及testing set\n",
    "train_data = df[df['identification'] == 'train']\n",
    "test_data = df[df['identification'] == 'test']\n",
    "train_data = train_data.merge(emotions, on='tweet_id', how='left')\n",
    "train_data.drop_duplicates(subset=['text'], keep=False, inplace=True)\n",
    "\n",
    "# 統一submission跟test_data的順序，以方便後續預測結束後填入\n",
    "test_data.rename(columns={'tweet_id': 'id', 'hashtags': 'hashtags', 'text':'text', 'identification': 'identification'}, inplace=True)\n",
    "\n",
    "new_submission = submission.copy()\n",
    "\n",
    "new_submission = new_submission.merge(test_data, on='id')\n",
    "new_submission.drop(['hashtags', 'identification'], axis='columns', inplace=True)\n",
    "\n",
    "y_train_data = train_data['emotion']\n",
    "X_train_data = train_data['text']\n",
    "X_test_data = new_submission['text']\n",
    "\n",
    "# 利用oneHot encoding將標籤轉成編碼\n",
    "le = preprocessing.LabelEncoder()\n",
    "y_train = le.fit_transform(y_train_data)"
   ]
  },
  {
   "cell_type": "code",
   "execution_count": null,
   "metadata": {},
   "outputs": [],
   "source": [
    "new_submission.head(3)"
   ]
  },
  {
   "cell_type": "code",
   "execution_count": 8,
   "metadata": {},
   "outputs": [],
   "source": [
    "X_train, X_val, y_train, y_val = train_test_split(X_train_data, y_train, test_size=0.3, random_state=42, stratify=y_train)"
   ]
  },
  {
   "cell_type": "code",
   "execution_count": 10,
   "metadata": {},
   "outputs": [],
   "source": [
    "# 想利用不同的模型來達到計算資源及準確度的平衡，使用了TinyBert, distilber, BERT\n",
    "from transformers import BertTokenizer, BertModel, DistilBertTokenizer\n",
    "\n",
    "# tokenizer = BertTokenizer.from_pretrained(\"bert-base-uncased\")\n",
    "# tokenizer = BertTokenizer.from_pretrained(\"huawei-noah/TinyBERT_General_4L_312D\")\n",
    "tokenizer = DistilBertTokenizer.from_pretrained(\"distilbert-base-uncased\")\n",
    "max_length = 50\n",
    "tokenized_train = tokenizer(X_train.tolist(), max_length=max_length, truncation=True, padding=True, return_tensors=\"pt\")\n",
    "# tokenized_val = tokenizer(X_val.tolist(), max_length=max_length, truncation=True, padding=True, return_tensors=\"pt\")\n",
    "tokenized_test = tokenizer(X_test_data.tolist(), max_length=max_length, truncation=True, padding=True, return_tensors=\"pt\")"
   ]
  },
  {
   "cell_type": "code",
   "execution_count": null,
   "metadata": {},
   "outputs": [],
   "source": [
    "print(tokenized_train)"
   ]
  },
  {
   "cell_type": "code",
   "execution_count": null,
   "metadata": {},
   "outputs": [],
   "source": [
    "# import torch\n",
    "# from torch import nn\n",
    "# from transformers import BertModel, BertTokenizer\n",
    "\n",
    "# class BertClassifier(nn.Module):\n",
    "#     def __init__(self):\n",
    "#         super(BertClassifier, self).__init__()\n",
    "#         self.bert = BertModel.from_pretrained(\"bert-base-uncased\")\n",
    "#         # self.bert = BertModel.from_pretrained(\"huawei-noah/TinyBERT_General_4L_312D\")\n",
    "#         self.classifier = nn.Linear(self.bert.config.hidden_size, 8)\n",
    "\n",
    "#     def forward(self, input_ids, attention_mask, token_type_ids=None):\n",
    "#         # BERT 模型輸出\n",
    "#         outputs = self.bert(input_ids=input_ids, \n",
    "#                             attention_mask=attention_mask, \n",
    "#                             token_type_ids=token_type_ids\n",
    "#                             )\n",
    "#         pooled_output = outputs.pooler_output  # BERT 的 [CLS] token 表示\n",
    "#         logits = self.classifier(pooled_output)  # 線性層進行分類\n",
    "#         return logits"
   ]
  },
  {
   "cell_type": "code",
   "execution_count": 11,
   "metadata": {},
   "outputs": [],
   "source": [
    "import torch\n",
    "from torch import nn\n",
    "from transformers import DistilBertModel\n",
    "\n",
    "class BertClassifier(nn.Module):\n",
    "    def __init__(self):\n",
    "        super(BertClassifier, self).__init__()\n",
    "        # 使用 DistilBERT 模型\n",
    "        self.bert = DistilBertModel.from_pretrained(\"distilbert-base-uncased\")\n",
    "        self.classifier = nn.Linear(self.bert.config.hidden_size, 8)  # 假設有 8 個分類\n",
    "\n",
    "    def forward(self, input_ids, attention_mask):\n",
    "        # DistilBERT 輸出 last_hidden_state\n",
    "        outputs = self.bert(input_ids=input_ids, attention_mask=attention_mask)\n",
    "        # 使用 last_hidden_state 的第一個 token 作為句子的表示\n",
    "        cls_output = outputs.last_hidden_state[:, 0, :]  # 取 [CLS] token 嵌入\n",
    "        logits = self.classifier(cls_output)  # 線性層進行分類\n",
    "        return logits\n"
   ]
  },
  {
   "cell_type": "code",
   "execution_count": 12,
   "metadata": {},
   "outputs": [
    {
     "name": "stderr",
     "output_type": "stream",
     "text": [
      "Some weights of the model checkpoint at distilbert-base-uncased were not used when initializing DistilBertModel: ['vocab_transform.bias', 'vocab_layer_norm.bias', 'vocab_transform.weight', 'vocab_layer_norm.weight', 'vocab_projector.bias']\n",
      "- This IS expected if you are initializing DistilBertModel from the checkpoint of a model trained on another task or with another architecture (e.g. initializing a BertForSequenceClassification model from a BertForPreTraining model).\n",
      "- This IS NOT expected if you are initializing DistilBertModel from the checkpoint of a model that you expect to be exactly identical (initializing a BertForSequenceClassification model from a BertForSequenceClassification model).\n"
     ]
    }
   ],
   "source": [
    "device = torch.device(\"cuda\" if torch.cuda.is_available() else \"cpu\")\n",
    "model = BertClassifier().to(device)\n",
    "\n",
    "input_ids = torch.tensor(tokenized_train['input_ids'].numpy()).to(device)\n",
    "attention_mask = torch.tensor(tokenized_train['attention_mask'].numpy()).to(device)\n",
    "# token_type_ids = torch.tensor(tokenized_train['token_type_ids'].numpy()).to(device)\n",
    "\n",
    "train_input = {\n",
    "    'input_ids': input_ids,\n",
    "    'attention_mask': attention_mask,\n",
    "    # 'token_type_ids': token_type_ids,\n",
    "}\n",
    "\n",
    "y_train = torch.tensor(y_train).to(device)"
   ]
  },
  {
   "cell_type": "code",
   "execution_count": 13,
   "metadata": {},
   "outputs": [],
   "source": [
    "criterion = nn.CrossEntropyLoss()\n",
    "optimizer = torch.optim.Adam(model.parameters(), lr=2e-5)"
   ]
  },
  {
   "cell_type": "code",
   "execution_count": 14,
   "metadata": {},
   "outputs": [
    {
     "name": "stderr",
     "output_type": "stream",
     "text": [
      "100%|██████████| 62979/62979 [36:18<00:00, 28.90it/s]\n"
     ]
    },
    {
     "name": "stdout",
     "output_type": "stream",
     "text": [
      "Epoch 1/5\n",
      "Loss: 1.0975, Accuracy: 0.6032\n"
     ]
    },
    {
     "name": "stderr",
     "output_type": "stream",
     "text": [
      "100%|██████████| 62979/62979 [36:30<00:00, 28.76it/s]\n"
     ]
    },
    {
     "name": "stdout",
     "output_type": "stream",
     "text": [
      "Epoch 2/5\n",
      "Loss: 0.9498, Accuracy: 0.6572\n"
     ]
    },
    {
     "name": "stderr",
     "output_type": "stream",
     "text": [
      "100%|██████████| 62979/62979 [36:30<00:00, 28.76it/s]\n"
     ]
    },
    {
     "name": "stdout",
     "output_type": "stream",
     "text": [
      "Epoch 3/5\n",
      "Loss: 0.8409, Accuracy: 0.6970\n"
     ]
    },
    {
     "name": "stderr",
     "output_type": "stream",
     "text": [
      "100%|██████████| 62979/62979 [36:30<00:00, 28.75it/s]\n"
     ]
    },
    {
     "name": "stdout",
     "output_type": "stream",
     "text": [
      "Epoch 4/5\n",
      "Loss: 0.7326, Accuracy: 0.7361\n"
     ]
    },
    {
     "name": "stderr",
     "output_type": "stream",
     "text": [
      "100%|██████████| 62979/62979 [36:33<00:00, 28.71it/s]\n"
     ]
    },
    {
     "name": "stdout",
     "output_type": "stream",
     "text": [
      "Epoch 5/5\n",
      "Loss: 0.6289, Accuracy: 0.7739\n"
     ]
    }
   ],
   "source": [
    "epochs = 5\n",
    "batch_size = 16\n",
    "dataset = torch.utils.data.TensorDataset(\n",
    "    train_input['input_ids'], train_input['attention_mask'], y_train\n",
    ")\n",
    "dataloader = torch.utils.data.DataLoader(dataset, batch_size=batch_size, shuffle=True)\n",
    "\n",
    "for epoch in range(epochs):\n",
    "    model.train()\n",
    "    total_loss = 0\n",
    "    correct_predictions = 0\n",
    "    total_samples = 0\n",
    "    \n",
    "    for batch in tqdm(dataloader):\n",
    "        input_ids, attention_mask, labels = batch\n",
    "        optimizer.zero_grad()\n",
    "        \n",
    "        logits = model(input_ids, attention_mask)\n",
    "        \n",
    "        # 計算損失\n",
    "        loss = criterion(logits, labels)\n",
    "        total_loss += loss.item()\n",
    "        \n",
    "        # 計算準確率\n",
    "        _, preds = torch.max(logits, dim=1)\n",
    "        correct_predictions += (preds == labels).sum().item()\n",
    "        total_samples += labels.size(0)\n",
    "        \n",
    "        loss.backward()\n",
    "        optimizer.step()\n",
    "    \n",
    "    # 每個 epoch 結束後，計算平均損失和準確率\n",
    "    avg_loss = total_loss / len(dataloader)\n",
    "    accuracy = correct_predictions / total_samples\n",
    "    \n",
    "    print(f\"Epoch {epoch + 1}/{epochs}\")\n",
    "    print(f\"Loss: {avg_loss:.4f}, Accuracy: {accuracy:.4f}\")\n",
    "\n",
    "    if epoch == 3:\n",
    "        torch.save(model.state_dict(), \"distilbert_classifier_model_epoch_3.pth\")\n",
    "\n",
    "# 保存模型\n",
    "torch.save(model.state_dict(), \"distilbert_classifier_model_epoch_5.pth\")\n"
   ]
  },
  {
   "cell_type": "code",
   "execution_count": 20,
   "metadata": {},
   "outputs": [
    {
     "data": {
      "text/plain": [
       "<All keys matched successfully>"
      ]
     },
     "execution_count": 20,
     "metadata": {},
     "output_type": "execute_result"
    }
   ],
   "source": [
    "model.load_state_dict(torch.load(\"distilbert_classifier_model_epoch_3.pth\"))"
   ]
  },
  {
   "cell_type": "code",
   "execution_count": 16,
   "metadata": {},
   "outputs": [],
   "source": [
    "test_dataset = TensorDataset(tokenized_test['input_ids'], tokenized_test['attention_mask'])\n",
    "batch_size = 16\n",
    "test_loader = DataLoader(test_dataset, batch_size=batch_size)"
   ]
  },
  {
   "cell_type": "code",
   "execution_count": 17,
   "metadata": {},
   "outputs": [],
   "source": [
    "# input_ids = torch.tensor(tokenized_val['input_ids'].numpy()).to(device)\n",
    "# attention_mask = torch.tensor(tokenized_val['attention_mask'].numpy()).to(device)\n",
    "# token_type_ids = torch.tensor(tokenized_val['token_type_ids'].numpy()).to(device)\n",
    "test_ids = torch.tensor(tokenized_test['input_ids'].numpy()).to(device)\n",
    "test_attention_mask = torch.tensor(tokenized_test['attention_mask'].numpy()).to(device)\n",
    "\n",
    "# val_input = {\n",
    "#     'input_ids': input_ids,\n",
    "#     'attention_mask': attention_mask,\n",
    "#     # 'token_type_ids': token_type_ids,\n",
    "# }\n",
    "\n",
    "test_input = {\n",
    "    'input_ids': test_ids,\n",
    "    'attention_mask': test_attention_mask\n",
    "}\n",
    "\n",
    "# y_val = torch.tensor(y_val).to(device)"
   ]
  },
  {
   "cell_type": "code",
   "execution_count": null,
   "metadata": {},
   "outputs": [],
   "source": [
    "pred = []\n",
    "model.eval()  # 設置模型為評估模式\n",
    "with torch.no_grad():  # 推理時不計算梯度\n",
    "    for batch in tqdm(test_loader):\n",
    "        input_ids, attention_mask = [x.to(device) for x in batch]\n",
    "        logits = model(input_ids=input_ids, attention_mask=attention_mask)\n",
    "        probabilities = torch.softmax(logits, dim=-1)\n",
    "        predictions = torch.argmax(probabilities, dim=-1)\n",
    "        class_labels = le.inverse_transform(predictions.cpu())\n",
    "        pred.extend(class_labels)"
   ]
  },
  {
   "cell_type": "code",
   "execution_count": 19,
   "metadata": {},
   "outputs": [],
   "source": [
    "submission['emotion'] = pred\n",
    "submission.to_csv(\"submission_distilbert_epoch_5.csv\", index=False)"
   ]
  }
 ],
 "metadata": {
  "kernelspec": {
   "display_name": "Python 3 (ipykernel)",
   "language": "python",
   "name": "python3"
  },
  "language_info": {
   "codemirror_mode": {
    "name": "ipython",
    "version": 3
   },
   "file_extension": ".py",
   "mimetype": "text/x-python",
   "name": "python",
   "nbconvert_exporter": "python",
   "pygments_lexer": "ipython3",
   "version": "3.12.3"
  },
  "varInspector": {
   "cols": {
    "lenName": 16,
    "lenType": 16,
    "lenVar": 40
   },
   "kernels_config": {
    "python": {
     "delete_cmd_postfix": "",
     "delete_cmd_prefix": "del ",
     "library": "var_list.py",
     "varRefreshCmd": "print(var_dic_list())"
    },
    "r": {
     "delete_cmd_postfix": ") ",
     "delete_cmd_prefix": "rm(",
     "library": "var_list.r",
     "varRefreshCmd": "cat(var_dic_list()) "
    }
   },
   "types_to_exclude": [
    "module",
    "function",
    "builtin_function_or_method",
    "instance",
    "_Feature"
   ],
   "window_display": false
  }
 },
 "nbformat": 4,
 "nbformat_minor": 4
}
